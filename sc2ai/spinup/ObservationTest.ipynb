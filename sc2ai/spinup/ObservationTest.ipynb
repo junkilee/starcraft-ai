{
 "cells": [
  {
   "cell_type": "code",
   "execution_count": 1,
   "metadata": {},
   "outputs": [
    {
     "name": "stdout",
     "output_type": "stream",
     "text": [
      "pygame 1.9.6\n",
      "Hello from the pygame community. https://www.pygame.org/contribute.html\n"
     ]
    }
   ],
   "source": [
    "import argparse\n",
    "from sc2ai.spinup.algorithms.ppo.ppo import ppo\n",
    "from sc2ai.spinup.algorithms.ppo.sc2_nets import SC2AtariNetActorCritic\n",
    "from sc2ai.spinup.utils.mpi_tools import mpi_fork\n",
    "from sc2ai.envs import make_sc2env\n",
    "from absl import flags\n",
    "import torch"
   ]
  },
  {
   "cell_type": "code",
   "execution_count": 2,
   "metadata": {},
   "outputs": [
    {
     "name": "stdout",
     "output_type": "stream",
     "text": [
      "device -  cuda:0 cuda:0\n"
     ]
    }
   ],
   "source": [
    "import sys\n",
    "sys.argv = ['--seed 0']\n",
    "flags.FLAGS.mark_as_parsed()\n",
    "\n",
    "\n",
    "\n",
    "parser = argparse.ArgumentParser()\n",
    "parser.add_argument('--map-name', type=str, default='FleeRoachesv4_training')\n",
    "parser.add_argument('--seed', '-s', type=int, default=0)\n",
    "#parser.add_argument('--cpu', type=int, default=1)\n",
    "#parser.add_argument('--steps', type=int, default=6000)\n",
    "#parser.add_argument('--epochs', type=int, default=1000000)\n",
    "parser.add_argument('--cpu', type=int, default=1)\n",
    "parser.add_argument('--steps', type=int, default=1000)\n",
    "parser.add_argument('--epochs', type=int, default=10000)\n",
    "parser.add_argument('--exp_name', type=str, default='ppognn_sc2')\n",
    "args = parser.parse_args()\n",
    "\n",
    "mpi_fork(args.cpu)  # run parallel code with mpi\n",
    "\n",
    "from sc2ai.spinup.utils.run_utils import setup_logger_kwargs\n",
    "logger_kwargs = setup_logger_kwargs(args.exp_name, args.seed, data_dir = '/users/mli115/scratch/pposc', datestamp=True)\n",
    "\n",
    "if torch.cuda.is_available():\n",
    "    dev = \"cuda:0\"\n",
    "else:\n",
    "    dev = \"cpu\"\n",
    "device = torch.device(dev)\n",
    "print(\"device - \", dev, device)\n"
   ]
  },
  {
   "cell_type": "code",
   "execution_count": 3,
   "metadata": {},
   "outputs": [],
   "source": [
    "env = make_sc2env(map=args.map_name)"
   ]
  },
  {
   "cell_type": "code",
   "execution_count": 4,
   "metadata": {},
   "outputs": [
    {
     "data": {
      "text/plain": [
       "{'_num_players': 1,\n",
       " '_map_name': 'FleeRoachesv4_training',\n",
       " '_env_options': SC2EnvOptions(map='FleeRoachesv4_training', render=False, feature_screen_size=32, feature_minimap_size=32, rgb_screen_size=None, rgb_minimap_size=None, action_space='features', use_feature_units=True, use_raw_units=True, disable_fog=True, max_agent_steps=0, game_steps_per_episode=None, max_episodes=0, step_mul=8, agent1_name='TrainedAI', agent1_race='terran', agent2_name='DefaultAI', agent2_race='terran', difficulty=<Difficulty.very_easy: 1>, profile=False, trace=False, parallel=1, save_replay=True, realtime=False),\n",
       " '_sc2_env': None,\n",
       " '_seed': None,\n",
       " '_observation_spec': None,\n",
       " '_action_set': <sc2ai.envs.actions.DefaultActionSet at 0x7f8fe99a5190>,\n",
       " '_action_gym_space': None,\n",
       " '_observation_gym_space': None,\n",
       " '_observation_set': <sc2ai.envs.observations.ObservationSet at 0x7f8fe99a54d0>,\n",
       " '_reward_processor': <sc2ai.envs.rewards.RewardProcessor at 0x7f8ed3079910>,\n",
       " '_current_raw_obs': None,\n",
       " '_current_obs': None}"
      ]
     },
     "execution_count": 4,
     "metadata": {},
     "output_type": "execute_result"
    }
   ],
   "source": [
    "env.__dict__"
   ]
  },
  {
   "cell_type": "code",
   "execution_count": 5,
   "metadata": {},
   "outputs": [
    {
     "name": "stderr",
     "output_type": "stream",
     "text": [
      "/gpfs_home/mli115/torch-env/lib/python3.7/site-packages/gym/logger.py:30: UserWarning: \u001b[33mWARN: Box bound precision lowered by casting to float32\u001b[0m\n",
      "  warnings.warn(colorize('%s: %s'%('WARN', msg % args), 'yellow'))\n",
      "/gpfs/home/mli115/pysc2/pysc2/env/sc2_env.py:526: FutureWarning: arrays to stack must be passed as a \"sequence\" type such as list or tuple. Support for non-sequence iterables such as generators is deprecated as of NumPy 1.16 and will raise an error in the future.\n",
      "  for f, o in zip(self._features, self._obs)]\n"
     ]
    },
    {
     "data": {
      "text/plain": [
       "{'feature_screen': array([[[0., 0., 0., ..., 0., 0., 0.],\n",
       "         [0., 0., 0., ..., 0., 0., 0.],\n",
       "         [0., 0., 0., ..., 0., 0., 0.],\n",
       "         ...,\n",
       "         [0., 0., 0., ..., 0., 0., 0.],\n",
       "         [0., 0., 0., ..., 0., 0., 0.],\n",
       "         [0., 0., 0., ..., 0., 0., 0.]],\n",
       " \n",
       "        [[0., 0., 0., ..., 0., 0., 0.],\n",
       "         [0., 0., 0., ..., 0., 0., 0.],\n",
       "         [0., 0., 0., ..., 0., 0., 0.],\n",
       "         ...,\n",
       "         [0., 0., 0., ..., 0., 0., 0.],\n",
       "         [0., 0., 0., ..., 0., 0., 0.],\n",
       "         [0., 0., 0., ..., 0., 0., 0.]],\n",
       " \n",
       "        [[0., 0., 0., ..., 0., 0., 0.],\n",
       "         [0., 0., 0., ..., 0., 0., 0.],\n",
       "         [0., 0., 0., ..., 0., 0., 0.],\n",
       "         ...,\n",
       "         [0., 0., 0., ..., 0., 0., 0.],\n",
       "         [0., 0., 0., ..., 0., 0., 0.],\n",
       "         [0., 0., 0., ..., 0., 0., 0.]],\n",
       " \n",
       "        [[0., 0., 0., ..., 0., 0., 0.],\n",
       "         [0., 0., 0., ..., 0., 0., 0.],\n",
       "         [0., 0., 0., ..., 0., 0., 0.],\n",
       "         ...,\n",
       "         [0., 0., 0., ..., 0., 0., 0.],\n",
       "         [0., 0., 0., ..., 0., 0., 0.],\n",
       "         [0., 0., 0., ..., 0., 0., 0.]]])}"
      ]
     },
     "execution_count": 5,
     "metadata": {},
     "output_type": "execute_result"
    }
   ],
   "source": [
    "env.reset()"
   ]
  },
  {
   "cell_type": "code",
   "execution_count": 6,
   "metadata": {},
   "outputs": [
    {
     "data": {
      "text/plain": [
       "(array([11, 11, 11, 11, 11, 12, 12, 12, 12, 12, 12, 12, 12, 12, 13, 13, 13]),\n",
       " array([10, 15, 16, 17, 21,  9, 10, 11, 15, 16, 17, 20, 21, 22, 15, 16, 17]))"
      ]
     },
     "execution_count": 6,
     "metadata": {},
     "output_type": "execute_result"
    }
   ],
   "source": [
    "import numpy as np\n",
    "np.where(env.step([env.sample_action()])[0]['feature_screen'][3] != 0)"
   ]
  },
  {
   "cell_type": "code",
   "execution_count": 220,
   "metadata": {},
   "outputs": [
    {
     "data": {
      "text/plain": [
       "0"
      ]
     },
     "execution_count": 220,
     "metadata": {},
     "output_type": "execute_result"
    }
   ],
   "source": [
    "env.step([env.sample_action()])[1]"
   ]
  },
  {
   "cell_type": "code",
   "execution_count": 188,
   "metadata": {},
   "outputs": [
    {
     "data": {
      "text/plain": [
       "<matplotlib.image.AxesImage at 0x7f8e205c7790>"
      ]
     },
     "execution_count": 188,
     "metadata": {},
     "output_type": "execute_result"
    },
    {
     "data": {
      "image/png": "[encoded data removed]",
      "text/plain": [
       "<Figure size 432x288 with 1 Axes>"
      ]
     },
     "metadata": {
      "needs_background": "light"
     },
     "output_type": "display_data"
    }
   ],
   "source": [
    "import matplotlib.pyplot as plt\n",
    "\n",
    "img = env.step([env.sample_action()])[0]['feature_screen'][3]\n",
    "plt.imshow(img*225)\n"
   ]
  }
 ],
 "metadata": {
  "kernelspec": {
   "display_name": "Python 3",
   "language": "python",
   "name": "python3"
  },
  "language_info": {
   "codemirror_mode": {
    "name": "ipython",
    "version": 3
   },
   "file_extension": ".py",
   "mimetype": "text/x-python",
   "name": "python",
   "nbconvert_exporter": "python",
   "pygments_lexer": "ipython3",
   "version": "3.7.4"
  }
 },
 "nbformat": 4,
 "nbformat_minor": 4
}
